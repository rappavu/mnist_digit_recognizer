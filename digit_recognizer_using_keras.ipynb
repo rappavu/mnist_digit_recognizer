{
 "cells": [
  {
   "cell_type": "code",
   "execution_count": 1,
   "metadata": {},
   "outputs": [
    {
     "name": "stderr",
     "output_type": "stream",
     "text": [
      "Using TensorFlow backend.\n"
     ]
    }
   ],
   "source": [
    "import pandas as pd\n",
    "import numpy as np\n",
    "import matplotlib.pyplot as plt\n",
    "from keras.layers import Input, Conv2D, MaxPooling2D, Flatten, Dense, Activation, BatchNormalization\n",
    "from keras.models import Model, load_model\n",
    "from keras.utils import to_categorical\n",
    "from keras.preprocessing.image import ImageDataGenerator\n",
    "from keras.callbacks import ReduceLROnPlateau\n",
    "import keras.backend as K\n",
    "\n",
    "%matplotlib inline\n",
    "\n",
    "K.set_image_data_format('channels_last')"
   ]
  },
  {
   "cell_type": "code",
   "execution_count": 2,
   "metadata": {},
   "outputs": [],
   "source": [
    "def load_data():\n",
    "    # Read the MNIST training data\n",
    "    df = pd.read_csv('data/train.csv')\n",
    "    X = df.drop(columns=['label'])\n",
    "    X = X.values.reshape((-1, 28, 28, 1)) / 255.0 \n",
    "    Y = df['label'].values\n",
    "    Y = to_categorical(Y, num_classes=10)\n",
    "    print('X shape:', X.shape)\n",
    "    print('Y shape:', Y.shape)\n",
    "\n",
    "    # shuffle training data\n",
    "    indices = np.arange(len(Y))\n",
    "    np.random.shuffle(indices)\n",
    "    X_shuffled = X[indices]\n",
    "    Y_shuffled = Y[indices]\n",
    "\n",
    "    # Keep part of data for validation\n",
    "    index = 40000\n",
    "    X_train = X_shuffled[:index]\n",
    "    Y_train = Y_shuffled[:index]\n",
    "    X_val = X_shuffled[index+1:]\n",
    "    Y_val = Y_shuffled[index+1:]\n",
    "    \n",
    "    return X_train, Y_train, X_val, Y_val"
   ]
  },
  {
   "cell_type": "code",
   "execution_count": 3,
   "metadata": {},
   "outputs": [
    {
     "name": "stdout",
     "output_type": "stream",
     "text": [
      "X shape: (42000, 28, 28, 1)\n",
      "Y shape: (42000, 10)\n"
     ]
    }
   ],
   "source": [
    "X_train, Y_train, X_val, Y_val = load_data()"
   ]
  },
  {
   "cell_type": "code",
   "execution_count": null,
   "metadata": {},
   "outputs": [],
   "source": [
    "# view sample data\n",
    "img_id = 200\n",
    "plt.imshow(X_train[img_id,:,:,0])  \n",
    "print(Y_train[img_id])"
   ]
  },
  {
   "cell_type": "code",
   "execution_count": null,
   "metadata": {},
   "outputs": [],
   "source": [
    "def DigitModel():\n",
    "    # Input placeholder\n",
    "    X_input = Input((28, 28, 1), name='input')\n",
    "\n",
    "    # Layer-1 : Conv -> Relu -> Max Pooling\n",
    "    X = Conv2D(8, (7,7), strides=(1,1), padding='same', name='conv1')(X_input)\n",
    "    X = Activation('relu', name='a1')(X)\n",
    "    X = MaxPooling2D((2, 2), strides=(1,1), padding='same', name='max_pool1')(X)\n",
    "    X = BatchNormalization()(X)\n",
    "    \n",
    "    # Layer-2 : conv -> Relu -> Max Pooling\n",
    "    X = Conv2D(16, (5,5), strides=(1,1), padding='same', name='conv2')(X)\n",
    "    X = Activation('relu', name='a2')(X)\n",
    "    X = MaxPooling2D((2, 2), name='max_pool2')(X)\n",
    "    X = BatchNormalization()(X)\n",
    "    \n",
    "    # Layer-3 : conv -> Relu -> Max Pooling\n",
    "    X = Conv2D(32, (5,5), strides=(1,1), padding='same', name='conv3')(X)\n",
    "    X = Activation('relu', name='a3')(X)\n",
    "    #X = MaxPooling2D((2, 2), strides=(1,1), padding='same', name='max_pool3')(X)\n",
    "    X = MaxPooling2D((2, 2), name='max_pool3')(X)\n",
    "    X = BatchNormalization()(X)\n",
    "    \n",
    "    # Layer-4 : conv -> Relu -> Max Pooling\n",
    "    X = Conv2D(64, (3,3), strides=(1,1), padding='same', name='conv4')(X)\n",
    "    X = Activation('relu', name='a4')(X)\n",
    "    X = MaxPooling2D((2, 2), name='max_pool4')(X)\n",
    "    X = BatchNormalization()(X)\n",
    "   \n",
    "    # Layer-5 : Flatten -> Fully Connected \n",
    "    X = Flatten(name='flatten5')(X)\n",
    "    X = Dense(128, name='dense5')(X)\n",
    "    X = Activation('relu', name='a5')(X)\n",
    "    X = BatchNormalization()(X)\n",
    "    \n",
    "    # Layer-6 : Softmax\n",
    "    X = Dense(10, name='dense6')(X)\n",
    "    Y = Activation('softmax', name='a6')(X)\n",
    "\n",
    "    # Create keras model\n",
    "    model = Model(inputs=X_input, outputs=Y, name='DigitModel')\n",
    "    \n",
    "    return model"
   ]
  },
  {
   "cell_type": "code",
   "execution_count": null,
   "metadata": {},
   "outputs": [],
   "source": [
    "digit_model = DigitModel()"
   ]
  },
  {
   "cell_type": "code",
   "execution_count": null,
   "metadata": {},
   "outputs": [],
   "source": [
    "digit_model.summary()"
   ]
  },
  {
   "cell_type": "code",
   "execution_count": null,
   "metadata": {},
   "outputs": [],
   "source": [
    "digit_model.compile(loss='categorical_crossentropy', optimizer='adam', metrics=['accuracy'])"
   ]
  },
  {
   "cell_type": "code",
   "execution_count": null,
   "metadata": {},
   "outputs": [],
   "source": [
    "# Augment data with more variations\n",
    "datagen = ImageDataGenerator(\n",
    "                rotation_range = 10,\n",
    "                zoom_range = 0.1, \n",
    "                width_shift_range = 0.1,  \n",
    "                height_shift_range = 0.1)  "
   ]
  },
  {
   "cell_type": "code",
   "execution_count": null,
   "metadata": {},
   "outputs": [],
   "source": [
    "# Dynamically reduce the learning rate on plateau\n",
    "reduce_learning_rate = ReduceLROnPlateau(\n",
    "                            monitor = 'val_acc', \n",
    "                            patience = 3, \n",
    "                            verbose = 1, \n",
    "                            factor = 0.5, \n",
    "                            min_lr = 0.00001)"
   ]
  },
  {
   "cell_type": "code",
   "execution_count": null,
   "metadata": {},
   "outputs": [],
   "source": [
    "num_epochs = 30\n",
    "digit_model.fit_generator(datagen.flow(X_train, Y_train, batch_size=128), epochs=num_epochs, steps_per_epoch=len(X_train)/128,\n",
    "                         validation_data=(X_val, Y_val), callbacks=[reduce_learning_rate])"
   ]
  },
  {
   "cell_type": "code",
   "execution_count": null,
   "metadata": {},
   "outputs": [],
   "source": [
    "digit_model.evaluate(X_val, Y_val, batch_size=64)"
   ]
  },
  {
   "cell_type": "code",
   "execution_count": null,
   "metadata": {},
   "outputs": [],
   "source": [
    "digit_model.save('digit_model.h5')"
   ]
  },
  {
   "cell_type": "code",
   "execution_count": null,
   "metadata": {},
   "outputs": [],
   "source": [
    "# Read test data\n",
    "df = pd.read_csv('data/test.csv')\n",
    "X_test = df.values.reshape((-1, 28, 28, 1)) / 255.0"
   ]
  },
  {
   "cell_type": "code",
   "execution_count": null,
   "metadata": {},
   "outputs": [],
   "source": [
    "# Predict results for the test data\n",
    "results = digit_model.predict(X_test)\n",
    "digits = [np.argmax(r) for r in results]"
   ]
  },
  {
   "cell_type": "code",
   "execution_count": null,
   "metadata": {},
   "outputs": [],
   "source": [
    "# Write the predictions\n",
    "file = open('data/predictions.csv', 'w')\n",
    "file.write('ImageId,Label\\n')\n",
    "for i, d in zip(range(len(digits)), digits):\n",
    "    file.write(str(i+1)+','+str(d)+'\\n')\n",
    "file.close()"
   ]
  },
  {
   "cell_type": "code",
   "execution_count": 4,
   "metadata": {},
   "outputs": [],
   "source": [
    "# Load model\n",
    "digit_model = load_model('digit_model.h5')"
   ]
  },
  {
   "cell_type": "code",
   "execution_count": 5,
   "metadata": {},
   "outputs": [
    {
     "name": "stdout",
     "output_type": "stream",
     "text": [
      "Label = 0\n",
      "Prediction = 0\n"
     ]
    },
    {
     "data": {
      "image/png": "[encoded data removed]",
      "text/plain": [
       "<Figure size 432x288 with 1 Axes>"
      ]
     },
     "metadata": {},
     "output_type": "display_data"
    }
   ],
   "source": [
    "# view sample data and check the prediction\n",
    "img_id = 450\n",
    "X = X_val[img_id,:,:,0]\n",
    "Y = Y_val[img_id]\n",
    "plt.imshow(X)  \n",
    "print('Label =', np.argmax(Y))\n",
    "\n",
    "prediction = digit_model.predict(X.reshape(1,28,28,1))\n",
    "print('Prediction =', np.argmax(prediction))"
   ]
  },
  {
   "cell_type": "code",
   "execution_count": null,
   "metadata": {},
   "outputs": [],
   "source": []
  }
 ],
 "metadata": {
  "kernelspec": {
   "display_name": "Python 3",
   "language": "python",
   "name": "python3"
  },
  "language_info": {
   "codemirror_mode": {
    "name": "ipython",
    "version": 3
   },
   "file_extension": ".py",
   "mimetype": "text/x-python",
   "name": "python",
   "nbconvert_exporter": "python",
   "pygments_lexer": "ipython3",
   "version": "3.6.5"
  }
 },
 "nbformat": 4,
 "nbformat_minor": 2
}
