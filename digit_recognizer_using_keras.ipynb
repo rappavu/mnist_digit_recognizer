{
 "cells": [
  {
   "cell_type": "code",
   "execution_count": 59,
   "metadata": {},
   "outputs": [],
   "source": [
    "import pandas as pd\n",
    "import numpy as np\n",
    "import matplotlib.pyplot as plt\n",
    "from keras.layers import Input, Conv2D, MaxPooling2D, Flatten, Dense, Activation\n",
    "from keras.models import Model\n",
    "from keras.utils import to_categorical\n",
    "import keras.backend as K\n",
    "\n",
    "%matplotlib inline\n",
    "\n",
    "K.set_image_data_format('channels_last')"
   ]
  },
  {
   "cell_type": "code",
   "execution_count": 60,
   "metadata": {},
   "outputs": [],
   "source": [
    "def load_data():\n",
    "    # Read the MNIST training data\n",
    "    df = pd.read_csv('data/train.csv')\n",
    "    X = df.drop(columns=['label'])\n",
    "    X = X.values.reshape((-1, 28, 28, 1)) / 255.0 \n",
    "    Y = df['label'].values\n",
    "    Y = to_categorical(Y, num_classes=10)\n",
    "    print('X shape:', X.shape)\n",
    "    print('Y shape:', Y.shape)\n",
    "\n",
    "    # shuffle training data\n",
    "    indices = np.arange(len(Y))\n",
    "    np.random.shuffle(indices)\n",
    "    X_shuffled = X[indices]\n",
    "    Y_shuffled = Y[indices]\n",
    "\n",
    "    # Keep part of data for validation\n",
    "    index = 40000\n",
    "    X_train = X_shuffled[:index]\n",
    "    Y_train = Y_shuffled[:index]\n",
    "    X_val = X_shuffled[index+1:]\n",
    "    Y_val = Y_shuffled[index+1:]\n",
    "    \n",
    "    return X_train, Y_train, X_val, Y_val"
   ]
  },
  {
   "cell_type": "code",
   "execution_count": 61,
   "metadata": {},
   "outputs": [
    {
     "name": "stdout",
     "output_type": "stream",
     "text": [
      "X shape: (42000, 28, 28, 1)\n",
      "Y shape: (42000, 10)\n"
     ]
    }
   ],
   "source": [
    "X_train, Y_train, X_val, Y_val = load_data()"
   ]
  },
  {
   "cell_type": "code",
   "execution_count": 62,
   "metadata": {},
   "outputs": [
    {
     "data": {
      "text/plain": [
       "<matplotlib.image.AxesImage at 0x1ae116cc160>"
      ]
     },
     "execution_count": 62,
     "metadata": {},
     "output_type": "execute_result"
    },
    {
     "data": {
      "image/png": "[encoded data removed]",
      "text/plain": [
       "<Figure size 432x288 with 1 Axes>"
      ]
     },
     "metadata": {},
     "output_type": "display_data"
    }
   ],
   "source": [
    "plt.imshow(X_train[0,:,:,0])  # view sample data"
   ]
  },
  {
   "cell_type": "code",
   "execution_count": 63,
   "metadata": {},
   "outputs": [],
   "source": [
    "def DigitModel():\n",
    "    # Input placeholder\n",
    "    X_input = Input((28, 28, 1), name='input')\n",
    "\n",
    "    # Layer-0 : Conv -> Relu -> Max Pooling\n",
    "    X = Conv2D(16, (5,5), strides=(1,1), padding='same', name='conv0')(X_input)\n",
    "    X = Activation('relu', name='a0')(X)\n",
    "    X = MaxPooling2D((2, 2), name='max_pool0')(X)\n",
    "    \n",
    "    # Layer-1 : conv -> Relu -> Max Pooling\n",
    "    X = Conv2D(32, (3,3), strides=(1,1), padding='same', name='conv1')(X)\n",
    "    X = Activation('relu', name='a1')(X)\n",
    "    X = MaxPooling2D((2, 2), name='max_pool1')(X)\n",
    "\n",
    "    # Layer-2 : Flatten -> Fully Connected -> Softmax\n",
    "    X = Flatten(name='flatten2')(X)\n",
    "    X = Dense(10, name='dense2')(X)\n",
    "    Y = Activation('softmax', name='a2')(X)\n",
    "\n",
    "    # Create keras model\n",
    "    model = Model(inputs=X_input, outputs=Y, name='DigitModel')\n",
    "    \n",
    "    return model"
   ]
  },
  {
   "cell_type": "code",
   "execution_count": 64,
   "metadata": {},
   "outputs": [],
   "source": [
    "digit_model = DigitModel()"
   ]
  },
  {
   "cell_type": "code",
   "execution_count": 65,
   "metadata": {},
   "outputs": [
    {
     "name": "stdout",
     "output_type": "stream",
     "text": [
      "_________________________________________________________________\n",
      "Layer (type)                 Output Shape              Param #   \n",
      "=================================================================\n",
      "input (InputLayer)           (None, 28, 28, 1)         0         \n",
      "_________________________________________________________________\n",
      "conv0 (Conv2D)               (None, 28, 28, 16)        416       \n",
      "_________________________________________________________________\n",
      "a0 (Activation)              (None, 28, 28, 16)        0         \n",
      "_________________________________________________________________\n",
      "max_pool0 (MaxPooling2D)     (None, 14, 14, 16)        0         \n",
      "_________________________________________________________________\n",
      "conv1 (Conv2D)               (None, 14, 14, 32)        4640      \n",
      "_________________________________________________________________\n",
      "a1 (Activation)              (None, 14, 14, 32)        0         \n",
      "_________________________________________________________________\n",
      "max_pool1 (MaxPooling2D)     (None, 7, 7, 32)          0         \n",
      "_________________________________________________________________\n",
      "flatten2 (Flatten)           (None, 1568)              0         \n",
      "_________________________________________________________________\n",
      "dense2 (Dense)               (None, 10)                15690     \n",
      "_________________________________________________________________\n",
      "a2 (Activation)              (None, 10)                0         \n",
      "=================================================================\n",
      "Total params: 20,746\n",
      "Trainable params: 20,746\n",
      "Non-trainable params: 0\n",
      "_________________________________________________________________\n"
     ]
    }
   ],
   "source": [
    "digit_model.summary()"
   ]
  },
  {
   "cell_type": "code",
   "execution_count": 66,
   "metadata": {},
   "outputs": [],
   "source": [
    "digit_model.compile(loss='categorical_crossentropy', optimizer='adam', metrics=['accuracy'])"
   ]
  },
  {
   "cell_type": "code",
   "execution_count": 67,
   "metadata": {},
   "outputs": [
    {
     "name": "stdout",
     "output_type": "stream",
     "text": [
      "Epoch 1/30\n",
      "40000/40000 [==============================] - 3s 63us/step - loss: 0.4014 - acc: 0.8940\n",
      "Epoch 2/30\n",
      "40000/40000 [==============================] - 2s 54us/step - loss: 0.0931 - acc: 0.9725\n",
      "Epoch 3/30\n",
      "40000/40000 [==============================] - 2s 53us/step - loss: 0.0700 - acc: 0.9785\n",
      "Epoch 4/30\n",
      "40000/40000 [==============================] - 2s 53us/step - loss: 0.0552 - acc: 0.9837\n",
      "Epoch 5/30\n",
      "40000/40000 [==============================] - 2s 53us/step - loss: 0.0476 - acc: 0.9855\n",
      "Epoch 6/30\n",
      "40000/40000 [==============================] - 2s 53us/step - loss: 0.0421 - acc: 0.9870\n",
      "Epoch 7/30\n",
      "40000/40000 [==============================] - 2s 53us/step - loss: 0.0375 - acc: 0.9886\n",
      "Epoch 8/30\n",
      "40000/40000 [==============================] - 2s 53us/step - loss: 0.0347 - acc: 0.9894\n",
      "Epoch 9/30\n",
      "40000/40000 [==============================] - 2s 53us/step - loss: 0.0305 - acc: 0.9907\n",
      "Epoch 10/30\n",
      "40000/40000 [==============================] - 2s 53us/step - loss: 0.0274 - acc: 0.9916\n",
      "Epoch 11/30\n",
      "40000/40000 [==============================] - 2s 53us/step - loss: 0.0254 - acc: 0.9926\n",
      "Epoch 12/30\n",
      "40000/40000 [==============================] - 2s 53us/step - loss: 0.0225 - acc: 0.9931\n",
      "Epoch 13/30\n",
      "40000/40000 [==============================] - 2s 53us/step - loss: 0.0199 - acc: 0.9940\n",
      "Epoch 14/30\n",
      "40000/40000 [==============================] - 2s 53us/step - loss: 0.0189 - acc: 0.9941\n",
      "Epoch 15/30\n",
      "40000/40000 [==============================] - 2s 53us/step - loss: 0.0165 - acc: 0.9947\n",
      "Epoch 16/30\n",
      "40000/40000 [==============================] - 2s 53us/step - loss: 0.0149 - acc: 0.9954\n",
      "Epoch 17/30\n",
      "40000/40000 [==============================] - 2s 53us/step - loss: 0.0139 - acc: 0.9956\n",
      "Epoch 18/30\n",
      "40000/40000 [==============================] - 2s 53us/step - loss: 0.0123 - acc: 0.9961\n",
      "Epoch 19/30\n",
      "40000/40000 [==============================] - 2s 53us/step - loss: 0.0108 - acc: 0.9969\n",
      "Epoch 20/30\n",
      "40000/40000 [==============================] - 2s 53us/step - loss: 0.0111 - acc: 0.9964\n",
      "Epoch 21/30\n",
      "40000/40000 [==============================] - 2s 53us/step - loss: 0.0090 - acc: 0.9974\n",
      "Epoch 22/30\n",
      "40000/40000 [==============================] - 2s 53us/step - loss: 0.0076 - acc: 0.9978\n",
      "Epoch 23/30\n",
      "40000/40000 [==============================] - 2s 53us/step - loss: 0.0070 - acc: 0.9979\n",
      "Epoch 24/30\n",
      "40000/40000 [==============================] - 2s 53us/step - loss: 0.0062 - acc: 0.9983\n",
      "Epoch 25/30\n",
      "40000/40000 [==============================] - 2s 53us/step - loss: 0.0063 - acc: 0.9981\n",
      "Epoch 26/30\n",
      "40000/40000 [==============================] - 2s 53us/step - loss: 0.0055 - acc: 0.9983\n",
      "Epoch 27/30\n",
      "40000/40000 [==============================] - 2s 53us/step - loss: 0.0062 - acc: 0.9980\n",
      "Epoch 28/30\n",
      "40000/40000 [==============================] - 2s 53us/step - loss: 0.0064 - acc: 0.9980\n",
      "Epoch 29/30\n",
      "40000/40000 [==============================] - 2s 53us/step - loss: 0.0045 - acc: 0.9986\n",
      "Epoch 30/30\n",
      "40000/40000 [==============================] - 2s 53us/step - loss: 0.0037 - acc: 0.9991\n"
     ]
    },
    {
     "data": {
      "text/plain": [
       "<keras.callbacks.History at 0x1ae2d873f60>"
      ]
     },
     "execution_count": 67,
     "metadata": {},
     "output_type": "execute_result"
    }
   ],
   "source": [
    "digit_model.fit(X_train, Y_train, epochs=30, batch_size=128)"
   ]
  },
  {
   "cell_type": "code",
   "execution_count": 68,
   "metadata": {},
   "outputs": [
    {
     "name": "stdout",
     "output_type": "stream",
     "text": [
      "1999/1999 [==============================] - 0s 87us/step\n"
     ]
    },
    {
     "data": {
      "text/plain": [
       "[0.05088027620596081, 0.9869934967483742]"
      ]
     },
     "execution_count": 68,
     "metadata": {},
     "output_type": "execute_result"
    }
   ],
   "source": [
    "digit_model.evaluate(X_val, Y_val, batch_size=64)"
   ]
  },
  {
   "cell_type": "code",
   "execution_count": 69,
   "metadata": {},
   "outputs": [],
   "source": [
    "# Read test data\n",
    "df = pd.read_csv('data/test.csv')\n",
    "X_test = df.values.reshape((-1, 28, 28, 1)) / 255.0"
   ]
  },
  {
   "cell_type": "code",
   "execution_count": 70,
   "metadata": {},
   "outputs": [],
   "source": [
    "# Predict results for the test data\n",
    "results = digit_model.predict(X_test)\n",
    "digits = [np.argmax(r) for r in results]"
   ]
  },
  {
   "cell_type": "code",
   "execution_count": 71,
   "metadata": {},
   "outputs": [],
   "source": [
    "# Write the predictions\n",
    "file = open('data/predictions.csv', 'w')\n",
    "file.write('ImageId,Label\\n')\n",
    "for i, d in zip(range(len(digits)), digits):\n",
    "    file.write(str(i+1)+','+str(d)+'\\n')\n",
    "file.close()"
   ]
  },
  {
   "cell_type": "code",
   "execution_count": null,
   "metadata": {},
   "outputs": [],
   "source": []
  }
 ],
 "metadata": {
  "kernelspec": {
   "display_name": "Python 3",
   "language": "python",
   "name": "python3"
  },
  "language_info": {
   "codemirror_mode": {
    "name": "ipython",
    "version": 3
   },
   "file_extension": ".py",
   "mimetype": "text/x-python",
   "name": "python",
   "nbconvert_exporter": "python",
   "pygments_lexer": "ipython3",
   "version": "3.6.5"
  }
 },
 "nbformat": 4,
 "nbformat_minor": 2
}
